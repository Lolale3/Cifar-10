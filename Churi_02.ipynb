{
 "cells": [
  {
   "cell_type": "code",
   "execution_count": 515,
   "id": "e2bee8d3",
   "metadata": {},
   "outputs": [
    {
     "name": "stdout",
     "output_type": "stream",
     "text": [
      "[0.4359949  0.02592623 0.54966248 0.43532239 0.4203678  0.33033482\n",
      " 0.20464863 0.61927097 0.29965467 0.26682728 0.62113383 0.52914209\n",
      " 0.13457995 0.51357812 0.18443987 0.78533515 0.85397529 0.49423684\n",
      " 0.84656149 0.07964548]\n",
      "[-0.74787095  0.00902525 -0.87810789 -0.15643417  0.25657045 -0.98877905\n",
      " -0.33882197 -0.23618403 -0.63765501 -1.18761229 -1.42121723 -0.1534952\n",
      " -0.26905696  2.23136679 -2.43476758  0.1127265   0.37044454  1.35963386\n",
      "  0.50185721 -0.8442137 ]\n",
      "[ 0.31661605  0.16308234 -0.39481017  0.37964461  0.50538432  0.77641335\n",
      "  0.92579322 -0.70481919  0.88795927  0.87565468 -0.83184465 -0.19743324\n",
      "  0.72145738  0.13792628  0.67287445 -0.96418258 -0.75704031  0.17216649\n",
      " -0.77134048  0.39537911]\n"
     ]
    },
    {
     "data": {
      "image/png": "[encoded data removed]",
      "text/plain": [
       "<Figure size 720x360 with 1 Axes>"
      ]
     },
     "metadata": {
      "needs_background": "light"
     },
     "output_type": "display_data"
    }
   ],
   "source": [
    "#https://pytorch.org/tutorials/beginner/blitz/cifar10_tutorial.html#sphx-glr-beginner-blitz-cifar10-tutorial-py\n",
    "#https://numpy.org/doc/stable/reference/random/generated/numpy.random.uniform.html\n",
    "#https://numpy.org/doc/stable/reference/random/generated/numpy.random.normal.html\n",
    "#https://matplotlib.org/stable/api/_as_gen/matplotlib.pyplot.plot.html\n",
    "\n",
    "import torch\n",
    "import torchvision\n",
    "import torchvision.transforms as transforms\n",
    "\n",
    "import numpy as np \n",
    "\n",
    "np.random.seed(2)\n",
    "n_samples=20\n",
    "x=np.random.uniform(0,1,n_samples)\n",
    "print(x)\n",
    "\n",
    "N= np.random.normal(0,1,size=20)\n",
    "print (N)\n",
    "\n",
    "y = np.sin(2*np.pi*x) +N*0.1\n",
    "print(y)\n",
    "\n",
    "import matplotlib.pyplot as plt \n",
    "\n",
    "plt.figure(figsize=(10,5))\n",
    "plt.scatter(x,y,s=15)\n",
    "plt.xlabel('X_data',fontsize=16)\n",
    "plt.ylabel('Y_data',fontsize=16)\n",
    "plt.show()\n",
    "\n",
    "#my contribution\n",
    "degrees= [0,1,3,9]\n",
    "x_train=x[0:10]\n",
    "x_test=x[10:]\n",
    "y_train=y[0:10]\n",
    "y_test=y[10:]"
   ]
  },
  {
   "cell_type": "code",
   "execution_count": 415,
   "id": "f98ef2c5",
   "metadata": {},
   "outputs": [],
   "source": [
    "train_error=[]\n",
    "test_error=[]"
   ]
  },
  {
   "cell_type": "code",
   "execution_count": 416,
   "id": "e3a8b9c1",
   "metadata": {},
   "outputs": [
    {
     "name": "stdout",
     "output_type": "stream",
     "text": [
      "[tensor([1.], requires_grad=True), tensor([1.], requires_grad=True), tensor([1.], requires_grad=True), tensor([1.], requires_grad=True), tensor([1.], requires_grad=True), tensor([1.], requires_grad=True), tensor([1.], requires_grad=True), tensor([1.], requires_grad=True), tensor([1.], requires_grad=True), tensor([1.], requires_grad=True)]\n"
     ]
    }
   ],
   "source": [
    "#degree9\n",
    "\n",
    "weight9=[]\n",
    "\n",
    "for i in range(10):\n",
    "        weight9.append(Variable(torch.Tensor([1.0]),  requires_grad=True))\n",
    "\n",
    "print(weight9)"
   ]
  },
  {
   "cell_type": "code",
   "execution_count": 417,
   "id": "7b9ed3c4",
   "metadata": {},
   "outputs": [
    {
     "name": "stdout",
     "output_type": "stream",
     "text": [
      "predict (before training) 9 order \n",
      "\n",
      "predict (after training) 9 order \n",
      "\n",
      "\n",
      "tensor(0.6398, grad_fn=<MulBackward0>)\n"
     ]
    }
   ],
   "source": [
    "\n",
    "l=0\n",
    "\n",
    "def forward(x):\n",
    "    \n",
    "    temp=0\n",
    "    \n",
    "    for i in range(9):\n",
    "        \n",
    "        temp+=weight9[i+1][0]*np.power(x,i+1)\n",
    "        \n",
    "    temp+=weight9[0][0]\n",
    "            \n",
    "    return temp\n",
    "\n",
    "\n",
    "def loss(x, y):\n",
    "    y_pred= forward(x) \n",
    "    return (y-y_pred) * (y-y_pred)\n",
    "\n",
    "\n",
    "def gradient(x, y, i):\n",
    "    res=forward(x)\n",
    "    \n",
    "    res=y-res\n",
    "    \n",
    "    res=res*np.power(x,i)*2\n",
    "           \n",
    "    return res\n",
    "\n",
    "\n",
    "    \n",
    "    \n",
    "print(\"predict (before training) 9 order\", \"\\n\")\n",
    "for epoch in range(10000):\n",
    "    loss_value=0   \n",
    "        \n",
    "    for x_val, y_val in zip(x_train, y_train):\n",
    "        \n",
    "        \n",
    "\n",
    "        for i in range(1,10):\n",
    "            \n",
    "            l = loss(x_val, y_val)\n",
    "            loss_value+=l\n",
    "            l.backward()\n",
    "            \n",
    "            \n",
    "            weight9[i].data = weight9[i].data - 0.1 * weight9[i].grad.data\n",
    "        \n",
    "            \n",
    "        for i in range(10):\n",
    "        \n",
    "            weight9[i].grad.data.zero_()  \n",
    "            \n",
    "\n",
    "        \n",
    "print(\"predict (after training)\",  \"9 order\", \"\\n\\n\")\n",
    "print(loss_value*0.1)\n",
    "train_error.append(loss_value*0.1)"
   ]
  },
  {
   "cell_type": "code",
   "execution_count": 418,
   "id": "3c2f2d11",
   "metadata": {},
   "outputs": [
    {
     "name": "stdout",
     "output_type": "stream",
     "text": [
      "[tensor([1.], requires_grad=True), tensor([-0.6561], requires_grad=True), tensor([3.1127], requires_grad=True), tensor([-8.4418], requires_grad=True), tensor([-6.7325], requires_grad=True), tensor([-1.3047], requires_grad=True), tensor([3.0568], requires_grad=True), tensor([5.3822], requires_grad=True), tensor([6.0838], requires_grad=True), tensor([5.8235], requires_grad=True)]\n"
     ]
    }
   ],
   "source": [
    "print(weight9)"
   ]
  },
  {
   "cell_type": "code",
   "execution_count": 419,
   "id": "67283085",
   "metadata": {},
   "outputs": [
    {
     "name": "stdout",
     "output_type": "stream",
     "text": [
      "[tensor(-0.7699), tensor(-0.1223), tensor(0.9453), tensor(-0.0237), tensor(0.9240), tensor(-1.3843), tensor(-0.6251), tensor(0.0920), tensor(-0.7638), tensor(0.9630)]\n",
      "tensor(0.0671, grad_fn=<MulBackward0>)\n"
     ]
    }
   ],
   "source": [
    "y_pred=[]\n",
    "loss_value=0\n",
    "\n",
    "def forward(x):\n",
    "    \n",
    "    temp=0\n",
    "    \n",
    "    for i in range(9):\n",
    "        \n",
    "        temp+=weight9[i+1][0]*np.power(x,i+1)\n",
    "        \n",
    "    temp+=weight9[0][0]\n",
    "            \n",
    "    return temp\n",
    "\n",
    "def loss(x, y):\n",
    "    y_pred= forward(x) \n",
    "    return (y_pred-y) * (y_pred-y)\n",
    "\n",
    "        \n",
    "for x_val, y_val in zip(x_test, y_test):\n",
    "            \n",
    "            y_pred.append(forward(x_val).data)\n",
    "            loss_value+=loss(x_val,y_val)\n",
    "\n",
    "            \n",
    "print(y_pred)\n",
    "\n",
    "print(loss_value*0.1)\n",
    "test_error.append(loss_value*0.1)"
   ]
  },
  {
   "cell_type": "code",
   "execution_count": 420,
   "id": "54942f93",
   "metadata": {},
   "outputs": [
    {
     "data": {
      "image/png": "[encoded data removed]",
      "text/plain": [
       "<Figure size 720x360 with 1 Axes>"
      ]
     },
     "metadata": {
      "needs_background": "light"
     },
     "output_type": "display_data"
    }
   ],
   "source": [
    "\n",
    "def forward(x):\n",
    "    \n",
    "    temp=0\n",
    "    \n",
    "    \n",
    "    for i in range(9):\n",
    "        \n",
    "        temp+=weight9[i+1].data*np.power(x,i+1)\n",
    "        \n",
    "    temp+=weight9[0].data\n",
    "    \n",
    "            \n",
    "    return temp\n",
    "\n",
    "\n",
    "x_trace=np.linspace(0,1)\n",
    "plt.figure(figsize=(10,5))\n",
    "plt.scatter(x_test,y_test,s=20)\n",
    "plt.xlabel('X_test',fontsize=16)\n",
    "plt.ylabel('Y_test',fontsize=16)\n",
    "\n",
    "plt.plot(x_trace, forward(x_trace).data,color='red')\n",
    "\n",
    "plt.show()"
   ]
  },
  {
   "cell_type": "code",
   "execution_count": 421,
   "id": "ffe7960c",
   "metadata": {},
   "outputs": [
    {
     "name": "stdout",
     "output_type": "stream",
     "text": [
      "[tensor([1.], requires_grad=True), tensor([1.], requires_grad=True), tensor([1.], requires_grad=True), tensor([1.], requires_grad=True)]\n"
     ]
    }
   ],
   "source": [
    "\n",
    "#degree3\n",
    "weight3=[]\n",
    "\n",
    "for i in range(4):\n",
    "        weight3.append(Variable(torch.Tensor([1.0]),  requires_grad=True))\n",
    "\n",
    "print(weight3)"
   ]
  },
  {
   "cell_type": "code",
   "execution_count": 422,
   "id": "39c926ac",
   "metadata": {},
   "outputs": [
    {
     "name": "stdout",
     "output_type": "stream",
     "text": [
      "predict (before training) 3 order \n",
      "\n",
      "predict (after training) 3 order \n",
      "\n",
      "\n",
      "tensor(0.0003, grad_fn=<MulBackward0>)\n"
     ]
    }
   ],
   "source": [
    "l=0\n",
    "\n",
    "def forward(x):\n",
    "    #my contribution\n",
    "    temp=0\n",
    "    \n",
    "    for i in range(3):\n",
    "        \n",
    "        temp+=weight3[i+1][0]*np.power(x,i+1)\n",
    "        \n",
    "    temp+=weight3[0][0]\n",
    "            \n",
    "    return temp\n",
    "\n",
    "\n",
    "def loss(x, y):\n",
    "    y_pred= forward(x) \n",
    "    return (y-y_pred) * (y-y_pred)\n",
    "\n",
    "\n",
    "def gradient(x, y, i):\n",
    "    res=forward(x)\n",
    "    \n",
    "    res=y-res\n",
    "    \n",
    "    res=res*np.power(x,i)*2\n",
    "           \n",
    "    return res\n",
    "\n",
    "\n",
    "    \n",
    "    \n",
    "print(\"predict (before training) 3 order\", \"\\n\")\n",
    "for epoch in range(10000):\n",
    "        \n",
    "        \n",
    "    for x_val, y_val in zip(x_train, y_train):\n",
    "        \n",
    "        loss_value=0\n",
    "\n",
    "        for i in range(1,4):\n",
    "            \n",
    "            l = loss(x_val, y_val)\n",
    "            loss_value+=l\n",
    "            l.backward()\n",
    "            \n",
    "            \n",
    "            weight3[i].data = weight3[i].data - 0.1 * weight3[i].grad.data\n",
    "        \n",
    "    \n",
    "        for i in range(4):\n",
    "        \n",
    "            weight3[i].grad.data.zero_()  \n",
    "            \n",
    "\n",
    "        \n",
    "print(\"predict (after training)\",  \"3 order\", \"\\n\\n\")\n",
    "print(loss_value*0.1)\n",
    "\n",
    "train_error.append(loss_value*0.1)"
   ]
  },
  {
   "cell_type": "code",
   "execution_count": 423,
   "id": "bf140f54",
   "metadata": {},
   "outputs": [
    {
     "name": "stdout",
     "output_type": "stream",
     "text": [
      "[tensor([1.], requires_grad=True), tensor([-0.5576], requires_grad=True), tensor([2.6227], requires_grad=True), tensor([-10.2898], requires_grad=True)]\n"
     ]
    }
   ],
   "source": [
    "print(weight3)"
   ]
  },
  {
   "cell_type": "code",
   "execution_count": 424,
   "id": "f0e2c6ab",
   "metadata": {},
   "outputs": [
    {
     "name": "stdout",
     "output_type": "stream",
     "text": [
      "[tensor(-0.8004), tensor(-0.0852), tensor(0.9474), tensor(0.0115), tensor(0.9218), tensor(-2.8043), tensor(-3.9719), tensor(0.1228), tensor(-3.8354), tensor(0.9670)]\n",
      "tensor(2.3581, grad_fn=<MulBackward0>)\n"
     ]
    }
   ],
   "source": [
    "y_pred=[]\n",
    "loss_value=0\n",
    "\n",
    "def forward(x):\n",
    "    \n",
    "    temp=0\n",
    "    \n",
    "    for i in range(3):\n",
    "        \n",
    "        temp+=weight3[i+1][0]*np.power(x,i+1)\n",
    "        \n",
    "    temp+=weight3[0][0]\n",
    "            \n",
    "    return temp\n",
    "\n",
    "def loss(x, y):\n",
    "    y_pred= forward(x) \n",
    "    return (y_pred-y) * (y_pred-y)\n",
    "\n",
    "        \n",
    "for x_val, y_val in zip(x_test, y_test):\n",
    "            \n",
    "            y_pred.append(forward(x_val).data)\n",
    "            loss_value+=loss(x_val,y_val)\n",
    "\n",
    "            \n",
    "print(y_pred)\n",
    "print(loss_value*0.1)\n",
    "\n",
    "test_error.append(loss_value*0.1)"
   ]
  },
  {
   "cell_type": "code",
   "execution_count": 425,
   "id": "b9f535fa",
   "metadata": {},
   "outputs": [
    {
     "data": {
      "image/png": "[encoded data removed]",
      "text/plain": [
       "<Figure size 720x360 with 1 Axes>"
      ]
     },
     "metadata": {
      "needs_background": "light"
     },
     "output_type": "display_data"
    }
   ],
   "source": [
    "def forward(x):\n",
    "    \n",
    "    temp=0\n",
    "    \n",
    "    for i in range(3):\n",
    "        \n",
    "        temp+=weight3[i+1].data*np.power(x,i+1)\n",
    "        \n",
    "    temp+=weight3[0].data\n",
    "            \n",
    "    return temp\n",
    "\n",
    "\n",
    "x_trace=np.linspace(0,1)\n",
    "\n",
    "plt.figure(figsize=(10,5))\n",
    "plt.scatter(x_test,y_test,s=20)\n",
    "plt.xlabel('X_test',fontsize=16)\n",
    "plt.ylabel('Y_test',fontsize=16)\n",
    "\n",
    "\n",
    "plt.plot(x_trace, forward(x_trace).data,color='red')\n",
    "\n",
    "plt.show()"
   ]
  },
  {
   "cell_type": "code",
   "execution_count": 426,
   "id": "8e4658ab",
   "metadata": {},
   "outputs": [
    {
     "name": "stdout",
     "output_type": "stream",
     "text": [
      "[tensor([1.], requires_grad=True), tensor([1.], requires_grad=True)]\n"
     ]
    }
   ],
   "source": [
    "#degree 1\n",
    "\n",
    "weight1=[]\n",
    "\n",
    "for i in range(2):\n",
    "        weight1.append(Variable(torch.Tensor([1.0]),  requires_grad=True))\n",
    "\n",
    "print(weight1)"
   ]
  },
  {
   "cell_type": "code",
   "execution_count": 427,
   "id": "71a4575f",
   "metadata": {},
   "outputs": [
    {
     "name": "stdout",
     "output_type": "stream",
     "text": [
      "predict (before training) 1 order \n",
      "\n",
      "predict (after training) 1 order \n",
      "\n",
      "\n",
      "tensor(0.0127, grad_fn=<MulBackward0>)\n"
     ]
    }
   ],
   "source": [
    "l=0\n",
    "\n",
    "def forward(x):\n",
    "    \n",
    "    temp=0\n",
    "    \n",
    "    for i in range(1):\n",
    "        \n",
    "        temp+=weight1[i+1][0]*np.power(x,i+1)\n",
    "        \n",
    "    temp+=weight1[0][0]\n",
    "            \n",
    "    return temp\n",
    "\n",
    "\n",
    "def loss(x, y):\n",
    "    y_pred= forward(x) \n",
    "    return (y_pred-y) * (y_pred-y)\n",
    "\n",
    "\n",
    "def gradient(x, y, i):\n",
    "    res=forward(x)\n",
    "    \n",
    "    res-=y\n",
    "    \n",
    "    res=res*np.power(x,i)*2\n",
    "           \n",
    "    return res\n",
    "\n",
    "\n",
    "    \n",
    "    \n",
    "print(\"predict (before training) 1 order\", \"\\n\")\n",
    "for epoch in range(10000):\n",
    "    loss_value=0\n",
    "        \n",
    "    for x_val, y_val in zip(x_train, y_train):\n",
    "        \n",
    "        loss_value=0\n",
    "\n",
    "        for i in range(1,2):\n",
    "            \n",
    "            l = loss(x_val, y_val)\n",
    "            loss_value+=l\n",
    "            l.backward()\n",
    "            \n",
    "            weight1[i].data = weight1[i].data - 0.1 * weight1[i].grad.data\n",
    "        \n",
    "            \n",
    "        # Manually zero the gradients after updating weights\n",
    "        for i in range(2):\n",
    "        \n",
    "            weight1[i].grad.data.zero_()  \n",
    "         \n",
    "\n",
    "        \n",
    "print(\"predict (after training)\",  \"1 order\", \"\\n\\n\")\n",
    "\n",
    "print(loss_value*0.1)\n",
    "train_error.append(loss_value*0.1)"
   ]
  },
  {
   "cell_type": "code",
   "execution_count": 428,
   "id": "04cefdd2",
   "metadata": {},
   "outputs": [
    {
     "name": "stdout",
     "output_type": "stream",
     "text": [
      "[tensor([1.], requires_grad=True), tensor([-1.7828], requires_grad=True)]\n"
     ]
    }
   ],
   "source": [
    "print(weight1)"
   ]
  },
  {
   "cell_type": "code",
   "execution_count": 429,
   "id": "6922e76d",
   "metadata": {},
   "outputs": [
    {
     "name": "stdout",
     "output_type": "stream",
     "text": [
      "[tensor(-0.1074), tensor(0.0566), tensor(0.7601), tensor(0.0844), tensor(0.6712), tensor(-0.4001), tensor(-0.5225), tensor(0.1189), tensor(-0.5093), tensor(0.8580)]\n",
      "tensor(0.1252, grad_fn=<MulBackward0>)\n"
     ]
    }
   ],
   "source": [
    "y_pred=[]\n",
    "loss_value=0\n",
    "def forward(x):\n",
    "    \n",
    "    temp=0\n",
    "    \n",
    "    for i in range(1):\n",
    "        \n",
    "        temp+=weight1[i+1][0]*np.power(x,i+1)\n",
    "        \n",
    "    temp+=weight1[0][0]\n",
    "            \n",
    "    return temp\n",
    "\n",
    "def loss(x, y):\n",
    "    y_pred= forward(x) \n",
    "    return (y_pred-y) * (y_pred-y)\n",
    "\n",
    "        \n",
    "for x_val, y_val in zip(x_test, y_test):\n",
    "            \n",
    "            y_pred.append(forward(x_val).data)\n",
    "            loss_value+=loss(x_val,y_val)\n",
    "            \n",
    "print(y_pred)\n",
    "\n",
    "print(loss_value*0.1)\n",
    "test_error.append(loss_value*0.1)"
   ]
  },
  {
   "cell_type": "code",
   "execution_count": 413,
   "id": "68440139",
   "metadata": {},
   "outputs": [
    {
     "data": {
      "image/png": "[encoded data removed]",
      "text/plain": [
       "<Figure size 720x360 with 1 Axes>"
      ]
     },
     "metadata": {
      "needs_background": "light"
     },
     "output_type": "display_data"
    }
   ],
   "source": [
    "\n",
    "def forward(x):\n",
    "    \n",
    "    temp=0\n",
    "    \n",
    "    for i in range(1):\n",
    "        \n",
    "        temp+=weight1[i+1].data*np.power(x,i+1)\n",
    "        \n",
    "    temp+=weight1[0].data\n",
    "            \n",
    "    return temp\n",
    "\n",
    "\n",
    "x_trace=np.linspace(0,1)\n",
    "\n",
    "plt.figure(figsize=(10,5))\n",
    "plt.scatter(x_test,y_test,s=20)\n",
    "plt.xlabel('X_test',fontsize=16)\n",
    "plt.ylabel('Y_test',fontsize=16)\n",
    "\n",
    "\n",
    "plt.plot(x_trace, forward(x_trace).data,color='red')\n",
    "\n",
    "plt.show()"
   ]
  },
  {
   "cell_type": "code",
   "execution_count": 430,
   "id": "dd8f7ec6",
   "metadata": {},
   "outputs": [
    {
     "name": "stdout",
     "output_type": "stream",
     "text": [
      "tensor([1.], requires_grad=True)\n"
     ]
    }
   ],
   "source": [
    "#degree0\n",
    "\n",
    "weight0 =Variable(torch.Tensor([1.0]),  requires_grad=True)\n",
    "print(weight0)"
   ]
  },
  {
   "cell_type": "code",
   "execution_count": 431,
   "id": "7b788172",
   "metadata": {},
   "outputs": [
    {
     "name": "stdout",
     "output_type": "stream",
     "text": [
      "predict (before training) 0 order \n",
      "\n",
      "predict (after training) 0 order \n",
      "\n",
      "\n",
      "tensor([0.3396], grad_fn=<MulBackward0>)\n"
     ]
    }
   ],
   "source": [
    "weight0 =Variable(torch.Tensor([1.0]),  requires_grad=True)\n",
    "print(weight0)\n",
    "\n",
    "l=0\n",
    "\n",
    "def forward(x):          \n",
    "    return weight0\n",
    "\n",
    "\n",
    "def loss(x, y):\n",
    "    y_pred= forward(x) \n",
    "    return (y_pred-y) * (y_pred-y)\n",
    "\n",
    "    \n",
    "print(\"predict (before training) 0 order\", \"\\n\")\n",
    "for epoch in range(10000):\n",
    "    \n",
    "    loss_value=0\n",
    "        \n",
    "    for x_val, y_val in zip(x_train, y_train):\n",
    "        \n",
    "                 \n",
    "            l = loss(x_val, y_val)\n",
    "            loss_value+=l\n",
    "            l.backward()\n",
    "            \n",
    "            \n",
    "            weight0.data = weight0.data - 0.1 * weight0.grad.data\n",
    "        \n",
    "        \n",
    "            weight0.grad.data.zero_()  \n",
    "            \n",
    "\n",
    "        \n",
    "print(\"predict (after training)\",  \"0 order\", \"\\n\\n\")\n",
    "\n",
    "print(loss_value*0.1)\n",
    "train_error.append(loss_value*0.1)"
   ]
  },
  {
   "cell_type": "code",
   "execution_count": 432,
   "id": "ba6b13fb",
   "metadata": {},
   "outputs": [
    {
     "name": "stdout",
     "output_type": "stream",
     "text": [
      "tensor([0.4883], requires_grad=True)\n"
     ]
    }
   ],
   "source": [
    "print(weight0)"
   ]
  },
  {
   "cell_type": "code",
   "execution_count": 434,
   "id": "f9da9d88",
   "metadata": {},
   "outputs": [
    {
     "name": "stdout",
     "output_type": "stream",
     "text": [
      "[tensor([0.4883]), tensor([0.4883]), tensor([0.4883]), tensor([0.4883]), tensor([0.4883]), tensor([0.4883]), tensor([0.4883]), tensor([0.4883]), tensor([0.4883]), tensor([0.4883])]\n",
      "tensor([0.7779], grad_fn=<MulBackward0>)\n"
     ]
    }
   ],
   "source": [
    "y_pred=[]\n",
    "loss_value=0\n",
    "\n",
    "def forward(x):           \n",
    "    return weight0\n",
    "\n",
    "def loss(x, y):\n",
    "    y_pred= forward(x) \n",
    "    return (y_pred-y) * (y_pred-y)\n",
    "\n",
    "        \n",
    "for x_val, y_val in zip(x_test, y_test):\n",
    "            \n",
    "            y_pred.append(forward(x_val).data)\n",
    "            loss_value+=loss(x_val,y_val)\n",
    "            \n",
    "print(y_pred)\n",
    "\n",
    "print(loss_value*0.1)\n",
    "test_error.append(loss_value*0.1)"
   ]
  },
  {
   "cell_type": "code",
   "execution_count": 435,
   "id": "83cc9f66",
   "metadata": {},
   "outputs": [
    {
     "data": {
      "image/png": "[encoded data removed]",
      "text/plain": [
       "<Figure size 720x360 with 1 Axes>"
      ]
     },
     "metadata": {
      "needs_background": "light"
     },
     "output_type": "display_data"
    }
   ],
   "source": [
    "def forward(x):           \n",
    "    return weight0.data*np.power(x,0)\n",
    "\n",
    "x_trace=np.linspace(0,1)\n",
    "\n",
    "plt.figure(figsize=(10,5))\n",
    "plt.scatter(x_test,y_test,s=20)\n",
    "plt.xlabel('X_test',fontsize=16)\n",
    "plt.ylabel('Y_test',fontsize=16)\n",
    "\n",
    "\n",
    "plt.plot(x_trace, forward(x_trace),color='red')\n",
    "\n",
    "plt.show()"
   ]
  },
  {
   "cell_type": "code",
   "execution_count": 444,
   "id": "1255dc42",
   "metadata": {},
   "outputs": [
    {
     "name": "stdout",
     "output_type": "stream",
     "text": [
      "[tensor(0.6398, grad_fn=<MulBackward0>), tensor(0.0003, grad_fn=<MulBackward0>), tensor(0.0127, grad_fn=<MulBackward0>), tensor([0.3396], grad_fn=<MulBackward0>)]\n",
      "[tensor(0.0671, grad_fn=<MulBackward0>), tensor(2.3581, grad_fn=<MulBackward0>), tensor(0.1252, grad_fn=<MulBackward0>), tensor([0.7779], grad_fn=<MulBackward0>)]\n"
     ]
    }
   ],
   "source": [
    "print(train_error)\n",
    "print(test_error)"
   ]
  },
  {
   "cell_type": "code",
   "execution_count": 465,
   "id": "e4366ed1",
   "metadata": {},
   "outputs": [
    {
     "data": {
      "image/png": "[encoded data removed]",
      "text/plain": [
       "<Figure size 720x360 with 1 Axes>"
      ]
     },
     "metadata": {
      "needs_background": "light"
     },
     "output_type": "display_data"
    }
   ],
   "source": [
    "#train vs test error\n",
    "\n",
    "degrees=[9,3,1,0]\n",
    "\n",
    "\n",
    "\n",
    "plt.figure(figsize=(10,5))\n",
    "\n",
    "plt.xlabel('Degrees',fontsize=16)\n",
    "plt.ylabel('Error',fontsize=16)\n",
    "\n",
    "\n",
    "for i in range(4):\n",
    "    plt.scatter(degrees[i], test_error[i].data,color='blue')\n",
    "    plt.scatter(degrees[i], train_error[i].data,color='red')\n",
    "    \n",
    "    \n",
    "\n"
   ]
  },
  {
   "cell_type": "code",
   "execution_count": 380,
   "id": "ee4d47c5",
   "metadata": {},
   "outputs": [
    {
     "name": "stdout",
     "output_type": "stream",
     "text": [
      "[0.88526367 0.98313836 0.65290695 0.47773635 0.08778755 0.55895079\n",
      " 0.18115023 0.51440206 0.60893015 0.83321249 0.32375058 0.98886209\n",
      " 0.99495026 0.82615082 0.69415255 0.7336698  0.87526881 0.95151015\n",
      " 0.85226293 0.64093864 0.07349838 0.62338471 0.35321389 0.16477862\n",
      " 0.89316619 0.82489048 0.52663842 0.46344926 0.48930129 0.26072002\n",
      " 0.40263792 0.43666988 0.01505613 0.89290588 0.02914932 0.37289288\n",
      " 0.09587331 0.19696432 0.94242061 0.37127117 0.7290008  0.12616011\n",
      " 0.25128292 0.8812353  0.90329615 0.28763526 0.96711313 0.66809934\n",
      " 0.50300677 0.37800241 0.33736829 0.95201071 0.69333383 0.5341017\n",
      " 0.0434897  0.24755088 0.94317072 0.55686017 0.35751823 0.00945037\n",
      " 0.25354827 0.25422669 0.17068553 0.34497996 0.20264905 0.06290154\n",
      " 0.0979604  0.4967275  0.06966059 0.93515356 0.20609764 0.46421235\n",
      " 0.41466826 0.29133772 0.32352851 0.21159758 0.28026829 0.11710504\n",
      " 0.68925187 0.64452619 0.3115294  0.88029896 0.38637573 0.6110893\n",
      " 0.52316933 0.3250568  0.92979042 0.84820141 0.84112295 0.95428864\n",
      " 0.00248243 0.4921191  0.93791312 0.13442676 0.24499414 0.50506192\n",
      " 0.67842151 0.33275996 0.30636467 0.77579791]\n",
      "[ 1.93315697 -1.07079633 -0.57138161  0.29243207 -1.19499989 -0.48793054\n",
      " -0.17307117 -0.3953464   0.87084076  0.5928068  -1.09929731 -0.68153064\n",
      "  0.18006668 -0.06693104 -0.78774954  0.42475367  0.81988512 -0.63111868\n",
      "  0.78905965 -1.6216738  -1.61049926  0.49993976 -0.83451521 -0.99695969\n",
      " -0.26338808 -0.67736049  0.32706704 -1.45535944 -0.37151912  3.16096597\n",
      "  0.10995101 -1.91352322  0.59982043  0.54938447  1.38378103  0.14834924\n",
      " -0.65354144  1.40883398  0.71206123 -1.80071604  0.74759894 -0.232897\n",
      "  1.11064528 -0.37333881  0.78614607  0.1941687   0.5862041  -0.02038729\n",
      " -0.4144086   0.06731341  0.63179892  0.41759273  1.61517627  0.42560621\n",
      "  0.63536376  2.10222927  0.06612642  0.53555835 -0.60314079  0.04195763\n",
      "  1.64191464  0.31169771  1.4511699  -1.06492788 -1.40084545  0.30752553\n",
      " -1.36963867  2.67033724  1.2484503  -1.24572655 -0.16716877 -0.57661093\n",
      "  0.41602175 -0.05784726  0.93188736  1.46833213 -0.22132094 -1.17315562\n",
      "  0.56266908 -0.16451506  1.14485538 -0.15211769  0.82978905  0.33606595\n",
      " -0.18904405 -0.4493286   0.71352445  2.52973487  0.83761579 -0.1316824\n",
      "  0.70759287  0.11405388 -1.28089518  0.30984628  1.54829069 -0.31582804\n",
      " -1.12590378  0.48849667  1.83094666  0.94017599]\n",
      "[-0.46675254 -0.21282635 -0.87675546  0.16867405  0.40453824 -0.41078024\n",
      "  0.89057343 -0.12990201 -0.54514611 -0.80712411  0.78461327 -0.13807749\n",
      " -0.01371646 -0.89439364 -1.01783871 -0.95226529 -0.62392297 -0.36309095\n",
      " -0.72167218 -0.9364265   0.28451391 -0.64989999  0.71353191  0.76033717\n",
      " -0.64830929 -0.95905477 -0.13388707  0.08210574  0.03001946  1.31382905\n",
      "  0.58529113  0.19614465  0.15444149 -0.5683119   0.32050645  0.73124113\n",
      "  0.5012591   1.08587317 -0.28273528  0.54340635 -0.9165484   0.68895248\n",
      "  1.11103204 -0.71620246 -0.49229079  0.99158804 -0.14654655 -0.87252985\n",
      " -0.06033185  0.70037375  0.91625215 -0.25521808 -0.77576545 -0.17007092\n",
      "  0.33340234  1.21010453 -0.34291686 -0.2961555   0.7200447   0.06353933\n",
      "  1.16394295  1.03081715  1.02349059  0.72065856  0.81598342  0.41576567\n",
      "  0.44040568  0.28759399  0.54869374 -0.52083485  0.94547806  0.16530922\n",
      "  0.55243662  0.96067397  0.98835454  1.11786386  0.95983789  0.55385939\n",
      " -0.8717689  -0.80477837  1.04068165 -0.69838838  0.73778223 -0.60907603\n",
      " -0.16396792  0.84591157 -0.35561796 -0.5626342  -0.75676473 -0.2964487\n",
      "  0.0863562   0.06090231 -0.50837355  0.77870894  1.15433447 -0.06338243\n",
      " -1.01315014  0.91667076  1.12103638 -0.89287406]\n"
     ]
    },
    {
     "data": {
      "image/png": "[encoded data removed]",
      "text/plain": [
       "<Figure size 720x360 with 1 Axes>"
      ]
     },
     "metadata": {
      "needs_background": "light"
     },
     "output_type": "display_data"
    }
   ],
   "source": [
    "# for 100 data\n",
    "\n",
    "\n",
    "n_samples=100\n",
    "x=np.random.uniform(0,1,n_samples)\n",
    "print(x)\n",
    "\n",
    "N= np.random.normal(0,1,size=100)\n",
    "print (N)\n",
    "\n",
    "y = np.sin(2*np.pi*x) +N*0.1\n",
    "print(y)\n",
    "\n",
    "import matplotlib.pyplot as plt \n",
    "\n",
    "plt.figure(figsize=(10,5))\n",
    "plt.scatter(x,y,s=15)\n",
    "plt.xlabel('X_data',fontsize=16)\n",
    "plt.ylabel('Y_data',fontsize=16)\n",
    "plt.show()\n",
    "\n",
    "\n",
    "degrees= [0,1,3,9]\n",
    "x_train=x[0:50]\n",
    "x_test=x[50:]\n",
    "y_train=y[0:50]\n",
    "y_test=y[50:]"
   ]
  },
  {
   "cell_type": "code",
   "execution_count": 392,
   "id": "a6588762",
   "metadata": {},
   "outputs": [
    {
     "name": "stdout",
     "output_type": "stream",
     "text": [
      "[tensor([1.], requires_grad=True), tensor([1.], requires_grad=True), tensor([1.], requires_grad=True), tensor([1.], requires_grad=True), tensor([1.], requires_grad=True), tensor([1.], requires_grad=True), tensor([1.], requires_grad=True), tensor([1.], requires_grad=True), tensor([1.], requires_grad=True), tensor([1.], requires_grad=True), tensor([1.], requires_grad=True), tensor([1.], requires_grad=True), tensor([1.], requires_grad=True), tensor([1.], requires_grad=True), tensor([1.], requires_grad=True), tensor([1.], requires_grad=True), tensor([1.], requires_grad=True), tensor([1.], requires_grad=True), tensor([1.], requires_grad=True), tensor([1.], requires_grad=True), tensor([1.], requires_grad=True), tensor([1.], requires_grad=True), tensor([1.], requires_grad=True), tensor([1.], requires_grad=True), tensor([1.], requires_grad=True), tensor([1.], requires_grad=True), tensor([1.], requires_grad=True), tensor([1.], requires_grad=True), tensor([1.], requires_grad=True), tensor([1.], requires_grad=True), tensor([1.], requires_grad=True), tensor([1.], requires_grad=True), tensor([1.], requires_grad=True), tensor([1.], requires_grad=True), tensor([1.], requires_grad=True), tensor([1.], requires_grad=True), tensor([1.], requires_grad=True), tensor([1.], requires_grad=True), tensor([1.], requires_grad=True), tensor([1.], requires_grad=True), tensor([1.], requires_grad=True), tensor([1.], requires_grad=True), tensor([1.], requires_grad=True), tensor([1.], requires_grad=True), tensor([1.], requires_grad=True), tensor([1.], requires_grad=True), tensor([1.], requires_grad=True), tensor([1.], requires_grad=True), tensor([1.], requires_grad=True), tensor([1.], requires_grad=True), tensor([1.], requires_grad=True), tensor([1.], requires_grad=True), tensor([1.], requires_grad=True), tensor([1.], requires_grad=True), tensor([1.], requires_grad=True), tensor([1.], requires_grad=True), tensor([1.], requires_grad=True), tensor([1.], requires_grad=True), tensor([1.], requires_grad=True), tensor([1.], requires_grad=True), tensor([1.], requires_grad=True), tensor([1.], requires_grad=True), tensor([1.], requires_grad=True), tensor([1.], requires_grad=True), tensor([1.], requires_grad=True), tensor([1.], requires_grad=True), tensor([1.], requires_grad=True), tensor([1.], requires_grad=True), tensor([1.], requires_grad=True), tensor([1.], requires_grad=True), tensor([1.], requires_grad=True), tensor([1.], requires_grad=True), tensor([1.], requires_grad=True), tensor([1.], requires_grad=True), tensor([1.], requires_grad=True), tensor([1.], requires_grad=True), tensor([1.], requires_grad=True), tensor([1.], requires_grad=True), tensor([1.], requires_grad=True), tensor([1.], requires_grad=True), tensor([1.], requires_grad=True), tensor([1.], requires_grad=True), tensor([1.], requires_grad=True), tensor([1.], requires_grad=True), tensor([1.], requires_grad=True), tensor([1.], requires_grad=True), tensor([1.], requires_grad=True), tensor([1.], requires_grad=True), tensor([1.], requires_grad=True), tensor([1.], requires_grad=True), tensor([1.], requires_grad=True), tensor([1.], requires_grad=True), tensor([1.], requires_grad=True), tensor([1.], requires_grad=True), tensor([1.], requires_grad=True), tensor([1.], requires_grad=True), tensor([1.], requires_grad=True), tensor([1.], requires_grad=True), tensor([1.], requires_grad=True), tensor([1.], requires_grad=True)]\n"
     ]
    }
   ],
   "source": [
    "weight9=[]\n",
    "\n",
    "for i in range(100):\n",
    "        weight9.append(Variable(torch.Tensor([1.0]),  requires_grad=True))\n",
    "\n",
    "print(weight9)"
   ]
  },
  {
   "cell_type": "code",
   "execution_count": 393,
   "id": "9e5a2e1c",
   "metadata": {},
   "outputs": [
    {
     "name": "stdout",
     "output_type": "stream",
     "text": [
      "predict (before training) 9 order \n",
      "\n",
      "predict (after training) 9 order \n",
      "\n",
      "\n"
     ]
    }
   ],
   "source": [
    "l=0\n",
    "\n",
    "def forward(x):\n",
    "    \n",
    "    temp=0\n",
    "    \n",
    "    for i in range(9):\n",
    "        \n",
    "        temp+=weight9[i+1][0]*np.power(x,i+1)\n",
    "        \n",
    "    temp+=weight9[0][0]\n",
    "            \n",
    "    return temp\n",
    "\n",
    "\n",
    "def loss(x, y):\n",
    "    y_pred= forward(x) \n",
    "    return (y-y_pred) * (y-y_pred)\n",
    "\n",
    "\n",
    "def gradient(x, y, i):\n",
    "    res=forward(x)\n",
    "    \n",
    "    res=y-res\n",
    "    \n",
    "    res=res*np.power(x,i)*2\n",
    "           \n",
    "    return res\n",
    "\n",
    "\n",
    "    \n",
    "    \n",
    "print(\"predict (before training) 9 order\", \"\\n\")\n",
    "for epoch in range(1000):\n",
    "        \n",
    "        \n",
    "    for x_val, y_val in zip(x_train, y_train):\n",
    "        \n",
    "        \n",
    "\n",
    "        for i in range(1,10):\n",
    "            \n",
    "            l = loss(x_val, y_val)\n",
    "            l.backward()\n",
    "            \n",
    "            \n",
    "            weight9[i].data = weight9[i].data - 0.01 * weight9[i].grad.data\n",
    "        \n",
    "            \n",
    "        # Manually zero the gradients after updating weights\n",
    "        for i in range(10):\n",
    "        \n",
    "            weight9[i].grad.data.zero_()  \n",
    "            \n",
    "\n",
    "        \n",
    "print(\"predict (after training)\",  \"9 order\", \"\\n\\n\")"
   ]
  },
  {
   "cell_type": "code",
   "execution_count": 319,
   "id": "090c42a3",
   "metadata": {},
   "outputs": [
    {
     "name": "stdout",
     "output_type": "stream",
     "text": [
      "[tensor(-0.2550), tensor(0.9731), tensor(0.5415), tensor(-1.9883), tensor(0.4092), tensor(0.9938), tensor(0.8111), tensor(0.9800), tensor(0.5546), tensor(-0.2946), tensor(-1.9366), tensor(-0.6305), tensor(-1.7760), tensor(0.9105), tensor(0.7270), tensor(-0.1368), tensor(0.5702), tensor(0.9882), tensor(0.1350), tensor(0.2719), tensor(-0.0263), tensor(0.6581), tensor(0.7902), tensor(0.4764), tensor(-2.0007), tensor(-1.6040), tensor(0.5015), tensor(0.9973), tensor(-1.9266), tensor(0.7730), tensor(-0.5001), tensor(0.9943), tensor(-1.0681), tensor(0.4743), tensor(0.0102), tensor(0.3773), tensor(0.5865), tensor(-0.2964), tensor(-0.2199), tensor(0.9558), tensor(0.6825), tensor(0.9895), tensor(-1.6148), tensor(-1.0333), tensor(0.8586), tensor(0.3703), tensor(-0.9322), tensor(-1.0628), tensor(0.9093), tensor(-1.8599)]\n"
     ]
    }
   ],
   "source": [
    "y_pred=[]\n",
    "\n",
    "def forward(x):\n",
    "    \n",
    "    temp=0\n",
    "    \n",
    "    for i in range(9):\n",
    "        \n",
    "        temp+=weight9[i+1][0]*np.power(x,i+1)\n",
    "        \n",
    "    temp+=weight9[0][0]\n",
    "            \n",
    "    return temp\n",
    "\n",
    "def loss(x, y):\n",
    "    y_pred= forward(x) \n",
    "    return (y_pred-y) * (y_pred-y)\n",
    "\n",
    "        \n",
    "for x_val, y_val in zip(x_test, y_test):\n",
    "            \n",
    "            y_pred.append(forward(x_val).data)\n",
    "\n",
    "            \n",
    "print(y_pred)"
   ]
  },
  {
   "cell_type": "code",
   "execution_count": 394,
   "id": "76c48f0c",
   "metadata": {},
   "outputs": [
    {
     "data": {
      "image/png": "[encoded data removed]",
      "text/plain": [
       "<Figure size 720x360 with 1 Axes>"
      ]
     },
     "metadata": {
      "needs_background": "light"
     },
     "output_type": "display_data"
    }
   ],
   "source": [
    "\n",
    "def forward(x):\n",
    "    \n",
    "    temp=0\n",
    "    \n",
    "    for i in range(9):\n",
    "        \n",
    "        temp+=weight9[i+1][0].data*np.power(x,i+1)\n",
    "        \n",
    "    temp+=weight9[0][0].data\n",
    "            \n",
    "    return temp\n",
    "\n",
    "x_trace=np.linspace(0,1,50)\n",
    "\n",
    "plt.figure(figsize=(10,5))\n",
    "plt.scatter(x_test,y_test,s=20)\n",
    "plt.xlabel('X_test',fontsize=16)\n",
    "plt.ylabel('Y_test',fontsize=16)\n",
    "\n",
    "plt.plot(x_trace, forward(x_trace).data,color='red')\n",
    "\n",
    "plt.show()"
   ]
  },
  {
   "cell_type": "code",
   "execution_count": 478,
   "id": "01bb228f",
   "metadata": {},
   "outputs": [
    {
     "name": "stdout",
     "output_type": "stream",
     "text": [
      "{0: [tensor([1.], requires_grad=True), tensor([1.], requires_grad=True), tensor([1.], requires_grad=True), tensor([1.], requires_grad=True), tensor([1.], requires_grad=True), tensor([1.], requires_grad=True), tensor([1.], requires_grad=True), tensor([1.], requires_grad=True), tensor([1.], requires_grad=True), tensor([1.], requires_grad=True)], 1: [tensor([1.], requires_grad=True), tensor([1.], requires_grad=True), tensor([1.], requires_grad=True), tensor([1.], requires_grad=True), tensor([1.], requires_grad=True), tensor([1.], requires_grad=True), tensor([1.], requires_grad=True), tensor([1.], requires_grad=True), tensor([1.], requires_grad=True), tensor([1.], requires_grad=True)], 2: [tensor([1.], requires_grad=True), tensor([1.], requires_grad=True), tensor([1.], requires_grad=True), tensor([1.], requires_grad=True), tensor([1.], requires_grad=True), tensor([1.], requires_grad=True), tensor([1.], requires_grad=True), tensor([1.], requires_grad=True), tensor([1.], requires_grad=True), tensor([1.], requires_grad=True)], 3: [tensor([1.], requires_grad=True), tensor([1.], requires_grad=True), tensor([1.], requires_grad=True), tensor([1.], requires_grad=True), tensor([1.], requires_grad=True), tensor([1.], requires_grad=True), tensor([1.], requires_grad=True), tensor([1.], requires_grad=True), tensor([1.], requires_grad=True), tensor([1.], requires_grad=True)], 4: [tensor([1.], requires_grad=True), tensor([1.], requires_grad=True), tensor([1.], requires_grad=True), tensor([1.], requires_grad=True), tensor([1.], requires_grad=True), tensor([1.], requires_grad=True), tensor([1.], requires_grad=True), tensor([1.], requires_grad=True), tensor([1.], requires_grad=True), tensor([1.], requires_grad=True)], 5: [tensor([1.], requires_grad=True), tensor([1.], requires_grad=True), tensor([1.], requires_grad=True), tensor([1.], requires_grad=True), tensor([1.], requires_grad=True), tensor([1.], requires_grad=True), tensor([1.], requires_grad=True), tensor([1.], requires_grad=True), tensor([1.], requires_grad=True), tensor([1.], requires_grad=True)]}\n"
     ]
    }
   ],
   "source": [
    "#regularization\n",
    "\n",
    "weightl1=[]\n",
    "\n",
    "for j in range(10):\n",
    "        weightl1.append(Variable(torch.Tensor([1.0]),  requires_grad=True))\n",
    "\n",
    "\n",
    "print(weightl1)"
   ]
  },
  {
   "cell_type": "code",
   "execution_count": 512,
   "id": "ae17f0c7",
   "metadata": {},
   "outputs": [
    {
     "name": "stdout",
     "output_type": "stream",
     "text": [
      "predict (before training) 9 order \n",
      "\n",
      "predict (after training) 9 order \n",
      "\n",
      "\n"
     ]
    }
   ],
   "source": [
    "#youtube.com\n",
    "#https://www.youtube.com/watch?v=VqKq78PVO9g\n",
    "#https://towardsdatascience.com/regularization-in-machine-learning-76441ddcf99a\n",
    "\n",
    "#lambda=1/1000......same can be done for different lambda values\n",
    "\n",
    "la=1/1000     #replace lambda value here\n",
    "\n",
    "lamb_train_error=[]\n",
    "\n",
    "weightl1=[]\n",
    "\n",
    "for j in range(10):\n",
    "        weightl1.append(Variable(torch.Tensor([1.0]),  requires_grad=True))\n",
    "\n",
    "\n",
    "def forward(x):\n",
    "    \n",
    "    temp=0\n",
    "    \n",
    "    for i in range(9):\n",
    "        \n",
    "        temp+=weightl1[i+1][0].data*np.power(x,i+1)\n",
    "        \n",
    "    temp+=weightl1[0][0].data\n",
    "            \n",
    "    return temp\n",
    "\n",
    "\n",
    "def loss(x, y):\n",
    "    y_pred= forward(x) \n",
    "    return (y-y_pred) * (y-y_pred)\n",
    "\n",
    "    \n",
    "print(\"predict (before training) 9 order\", \"\\n\")\n",
    "\n",
    "for epoch in range(10):\n",
    "        loss_value=0   \n",
    "        \n",
    "        for x_val, y_val in zip(x_train, y_train):\n",
    "        \n",
    "        \n",
    "\n",
    "            for i in range(1,10):\n",
    "                \n",
    "                #my contribution\n",
    "                sum1=0\n",
    "                for k in range(10):\n",
    "                    sum1+=weightl1[k][0]*weightl1[k][0]\n",
    "                    \n",
    "                l = 0.5*loss(x_val, y_val) +0.5*la*sum1\n",
    "                loss_value+=l\n",
    "                l.backward()\n",
    "            \n",
    "            \n",
    "                weightl1[i].data = weightl1[i].data - 0.1 * weightl1[i].grad.data\n",
    "        \n",
    "            \n",
    "            for i in range(10):\n",
    "        \n",
    "                weightl1[i].grad.data.zero_()  \n",
    "\n",
    "        \n",
    "print(\"predict (after training)\",  \"9 order\", \"\\n\\n\")\n",
    "lamb_train_error.append(loss_value)\n",
    "    \n",
    "    \n",
    "    "
   ]
  },
  {
   "cell_type": "code",
   "execution_count": 513,
   "id": "76930e58",
   "metadata": {},
   "outputs": [],
   "source": [
    "y_pred=[]\n",
    "loss_value=0\n",
    "lamb_test_error=[]\n",
    "\n",
    "def forward(x):\n",
    "    \n",
    "    temp=0\n",
    "    \n",
    "    for i in range(9):\n",
    "        \n",
    "        temp+=weightl1[i+1][0]*np.power(x,i+1)\n",
    "        \n",
    "    temp+=weightl1[0][0]\n",
    "            \n",
    "    return temp\n",
    "\n",
    "def loss(x, y):\n",
    "    y_pred= forward(x) \n",
    "    return (y_pred-y) * (y_pred-y)\n",
    "\n",
    "\n",
    "for x_val, y_val in zip(x_test, y_test):\n",
    "            \n",
    "            y_pred.append(forward(x_val).data)\n",
    "            \n",
    "            sum1=0\n",
    "            for k in range(10):\n",
    "                    sum1+=weightl1[k].data\n",
    "                    \n",
    "            l = 0.5*loss(x_val, y_val) +0.5*la*sum1\n",
    "            loss_value+=l\n",
    "\n",
    "            \n",
    "    \n",
    "lamb_test_error.append(loss_value)"
   ]
  },
  {
   "cell_type": "code",
   "execution_count": 514,
   "id": "ad80cd9d",
   "metadata": {},
   "outputs": [
    {
     "data": {
      "image/png": "[encoded data removed]",
      "text/plain": [
       "<Figure size 720x360 with 1 Axes>"
      ]
     },
     "metadata": {
      "needs_background": "light"
     },
     "output_type": "display_data"
    }
   ],
   "source": [
    "def forward(x):\n",
    "    \n",
    "    temp=0\n",
    "    \n",
    "    for i in range(9):\n",
    "        \n",
    "        temp+=weightl1[i+1][0].data*np.power(x,i+1)\n",
    "        \n",
    "    temp+=weightl1[0][0].data\n",
    "            \n",
    "    return temp\n",
    "\n",
    "x_trace=np.linspace(0,1,50)\n",
    "\n",
    "plt.figure(figsize=(10,5))\n",
    "plt.scatter(x_test,y_test,s=20)\n",
    "plt.xlabel('X_test',fontsize=16)\n",
    "plt.ylabel('Y_test',fontsize=16)\n",
    "\n",
    "plt.plot(x_trace, forward(x_trace).data,color='red')\n",
    "\n",
    "plt.show()"
   ]
  },
  {
   "cell_type": "code",
   "execution_count": 516,
   "id": "c6e1f876",
   "metadata": {},
   "outputs": [
    {
     "name": "stdout",
     "output_type": "stream",
     "text": [
      "[tensor([1.], requires_grad=True), tensor([1.], requires_grad=True), tensor([1.], requires_grad=True), tensor([1.], requires_grad=True), tensor([1.], requires_grad=True), tensor([1.], requires_grad=True), tensor([1.], requires_grad=True), tensor([1.], requires_grad=True), tensor([1.], requires_grad=True), tensor([1.], requires_grad=True), tensor([1.], requires_grad=True), tensor([1.], requires_grad=True), tensor([1.], requires_grad=True), tensor([1.], requires_grad=True), tensor([1.], requires_grad=True), tensor([1.], requires_grad=True)]\n"
     ]
    }
   ],
   "source": [
    "#my experiment for degree 15\n",
    "\n",
    "weight15=[]\n",
    "\n",
    "for i in range(16):\n",
    "        weight15.append(Variable(torch.Tensor([1.0]),  requires_grad=True))\n",
    "\n",
    "print(weight15)"
   ]
  },
  {
   "cell_type": "code",
   "execution_count": 517,
   "id": "db5f60c3",
   "metadata": {},
   "outputs": [
    {
     "name": "stdout",
     "output_type": "stream",
     "text": [
      "predict (before training) 15 order \n",
      "\n"
     ]
    },
    {
     "ename": "KeyboardInterrupt",
     "evalue": "",
     "output_type": "error",
     "traceback": [
      "\u001b[1;31m---------------------------------------------------------------------------\u001b[0m",
      "\u001b[1;31mKeyboardInterrupt\u001b[0m                         Traceback (most recent call last)",
      "\u001b[1;32m<ipython-input-517-451b9958d627>\u001b[0m in \u001b[0;36m<module>\u001b[1;34m\u001b[0m\n\u001b[0;32m     41\u001b[0m         \u001b[1;32mfor\u001b[0m \u001b[0mi\u001b[0m \u001b[1;32min\u001b[0m \u001b[0mrange\u001b[0m\u001b[1;33m(\u001b[0m\u001b[1;36m1\u001b[0m\u001b[1;33m,\u001b[0m\u001b[1;36m16\u001b[0m\u001b[1;33m)\u001b[0m\u001b[1;33m:\u001b[0m\u001b[1;33m\u001b[0m\u001b[1;33m\u001b[0m\u001b[0m\n\u001b[0;32m     42\u001b[0m \u001b[1;33m\u001b[0m\u001b[0m\n\u001b[1;32m---> 43\u001b[1;33m             \u001b[0ml\u001b[0m \u001b[1;33m=\u001b[0m \u001b[0mloss\u001b[0m\u001b[1;33m(\u001b[0m\u001b[0mx_val\u001b[0m\u001b[1;33m,\u001b[0m \u001b[0my_val\u001b[0m\u001b[1;33m)\u001b[0m\u001b[1;33m\u001b[0m\u001b[1;33m\u001b[0m\u001b[0m\n\u001b[0m\u001b[0;32m     44\u001b[0m             \u001b[0mloss_value\u001b[0m\u001b[1;33m+=\u001b[0m\u001b[0ml\u001b[0m\u001b[1;33m\u001b[0m\u001b[1;33m\u001b[0m\u001b[0m\n\u001b[0;32m     45\u001b[0m             \u001b[0ml\u001b[0m\u001b[1;33m.\u001b[0m\u001b[0mbackward\u001b[0m\u001b[1;33m(\u001b[0m\u001b[1;33m)\u001b[0m\u001b[1;33m\u001b[0m\u001b[1;33m\u001b[0m\u001b[0m\n",
      "\u001b[1;32m<ipython-input-517-451b9958d627>\u001b[0m in \u001b[0;36mloss\u001b[1;34m(x, y)\u001b[0m\n\u001b[0;32m     15\u001b[0m \u001b[1;33m\u001b[0m\u001b[0m\n\u001b[0;32m     16\u001b[0m \u001b[1;32mdef\u001b[0m \u001b[0mloss\u001b[0m\u001b[1;33m(\u001b[0m\u001b[0mx\u001b[0m\u001b[1;33m,\u001b[0m \u001b[0my\u001b[0m\u001b[1;33m)\u001b[0m\u001b[1;33m:\u001b[0m\u001b[1;33m\u001b[0m\u001b[1;33m\u001b[0m\u001b[0m\n\u001b[1;32m---> 17\u001b[1;33m     \u001b[0my_pred\u001b[0m\u001b[1;33m=\u001b[0m \u001b[0mforward\u001b[0m\u001b[1;33m(\u001b[0m\u001b[0mx\u001b[0m\u001b[1;33m)\u001b[0m\u001b[1;33m\u001b[0m\u001b[1;33m\u001b[0m\u001b[0m\n\u001b[0m\u001b[0;32m     18\u001b[0m     \u001b[1;32mreturn\u001b[0m \u001b[1;33m(\u001b[0m\u001b[0my\u001b[0m\u001b[1;33m-\u001b[0m\u001b[0my_pred\u001b[0m\u001b[1;33m)\u001b[0m \u001b[1;33m*\u001b[0m \u001b[1;33m(\u001b[0m\u001b[0my\u001b[0m\u001b[1;33m-\u001b[0m\u001b[0my_pred\u001b[0m\u001b[1;33m)\u001b[0m\u001b[1;33m\u001b[0m\u001b[1;33m\u001b[0m\u001b[0m\n\u001b[0;32m     19\u001b[0m \u001b[1;33m\u001b[0m\u001b[0m\n",
      "\u001b[1;32m<ipython-input-517-451b9958d627>\u001b[0m in \u001b[0;36mforward\u001b[1;34m(x)\u001b[0m\n\u001b[0;32m      7\u001b[0m     \u001b[1;32mfor\u001b[0m \u001b[0mi\u001b[0m \u001b[1;32min\u001b[0m \u001b[0mrange\u001b[0m\u001b[1;33m(\u001b[0m\u001b[1;36m15\u001b[0m\u001b[1;33m)\u001b[0m\u001b[1;33m:\u001b[0m\u001b[1;33m\u001b[0m\u001b[1;33m\u001b[0m\u001b[0m\n\u001b[0;32m      8\u001b[0m \u001b[1;33m\u001b[0m\u001b[0m\n\u001b[1;32m----> 9\u001b[1;33m         \u001b[0mtemp\u001b[0m\u001b[1;33m+=\u001b[0m\u001b[0mweight15\u001b[0m\u001b[1;33m[\u001b[0m\u001b[0mi\u001b[0m\u001b[1;33m+\u001b[0m\u001b[1;36m1\u001b[0m\u001b[1;33m]\u001b[0m\u001b[1;33m[\u001b[0m\u001b[1;36m0\u001b[0m\u001b[1;33m]\u001b[0m\u001b[1;33m*\u001b[0m\u001b[0mnp\u001b[0m\u001b[1;33m.\u001b[0m\u001b[0mpower\u001b[0m\u001b[1;33m(\u001b[0m\u001b[0mx\u001b[0m\u001b[1;33m,\u001b[0m\u001b[0mi\u001b[0m\u001b[1;33m+\u001b[0m\u001b[1;36m1\u001b[0m\u001b[1;33m)\u001b[0m\u001b[1;33m\u001b[0m\u001b[1;33m\u001b[0m\u001b[0m\n\u001b[0m\u001b[0;32m     10\u001b[0m \u001b[1;33m\u001b[0m\u001b[0m\n\u001b[0;32m     11\u001b[0m     \u001b[0mtemp\u001b[0m\u001b[1;33m+=\u001b[0m\u001b[0mweight15\u001b[0m\u001b[1;33m[\u001b[0m\u001b[1;36m0\u001b[0m\u001b[1;33m]\u001b[0m\u001b[1;33m[\u001b[0m\u001b[1;36m0\u001b[0m\u001b[1;33m]\u001b[0m\u001b[1;33m\u001b[0m\u001b[1;33m\u001b[0m\u001b[0m\n",
      "\u001b[1;31mKeyboardInterrupt\u001b[0m: "
     ]
    }
   ],
   "source": [
    "l=0\n",
    "\n",
    "def forward(x):\n",
    "    \n",
    "    temp=0\n",
    "    \n",
    "    for i in range(15):\n",
    "        \n",
    "        temp+=weight15[i+1][0]*np.power(x,i+1)\n",
    "        \n",
    "    temp+=weight15[0][0]\n",
    "            \n",
    "    return temp\n",
    "\n",
    "\n",
    "def loss(x, y):\n",
    "    y_pred= forward(x) \n",
    "    return (y-y_pred) * (y-y_pred)\n",
    "\n",
    "\n",
    "def gradient(x, y, i):\n",
    "    res=forward(x)\n",
    "    \n",
    "    res=y-res\n",
    "    \n",
    "    res=res*np.power(x,i)*2\n",
    "           \n",
    "    return res\n",
    "\n",
    "\n",
    "    \n",
    "    \n",
    "print(\"predict (before training) 15 order\", \"\\n\")\n",
    "for epoch in range(10000):\n",
    "    loss_value=0   \n",
    "        \n",
    "    for x_val, y_val in zip(x_train, y_train):\n",
    "        \n",
    "        \n",
    "\n",
    "        for i in range(1,16):\n",
    "            \n",
    "            l = loss(x_val, y_val)\n",
    "            loss_value+=l\n",
    "            l.backward()\n",
    "            \n",
    "            \n",
    "            weight15[i].data = weight15[i].data - 0.1 * weight15[i].grad.data\n",
    "        \n",
    "            \n",
    "        # Manually zero the gradients after updating weights\n",
    "        for i in range(16):\n",
    "        \n",
    "            weight15[i].grad.data.zero_()  \n",
    "            \n",
    "\n",
    "        \n",
    "print(\"predict (after training)\",  \"9 order\", \"\\n\\n\")\n",
    "print(loss_value*0.1)\n"
   ]
  },
  {
   "cell_type": "code",
   "execution_count": null,
   "id": "1e703187",
   "metadata": {},
   "outputs": [],
   "source": [
    "\n",
    "def forward(x):\n",
    "    \n",
    "    temp=0\n",
    "    \n",
    "    \n",
    "    for i in range(15):\n",
    "        \n",
    "        temp+=weight15[i+1].data*np.power(x,i+1)\n",
    "        \n",
    "    temp+=weight15[0].data\n",
    "    \n",
    "            \n",
    "    return temp\n",
    "\n",
    "\n",
    "x_trace=np.linspace(0,1)\n",
    "plt.figure(figsize=(10,5))\n",
    "plt.scatter(x_test,y_test,s=20)\n",
    "plt.xlabel('X_test',fontsize=16)\n",
    "plt.ylabel('Y_test',fontsize=16)\n",
    "\n",
    "plt.plot(x_trace, forward(x_trace).data,color='red')\n",
    "\n",
    "plt.show()"
   ]
  }
 ],
 "metadata": {
  "kernelspec": {
   "display_name": "Python 3",
   "language": "python",
   "name": "python3"
  },
  "language_info": {
   "codemirror_mode": {
    "name": "ipython",
    "version": 3
   },
   "file_extension": ".py",
   "mimetype": "text/x-python",
   "name": "python",
   "nbconvert_exporter": "python",
   "pygments_lexer": "ipython3",
   "version": "3.8.8"
  }
 },
 "nbformat": 4,
 "nbformat_minor": 5
}
